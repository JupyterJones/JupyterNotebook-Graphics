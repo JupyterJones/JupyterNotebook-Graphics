{
 "cells": [
  {
   "cell_type": "code",
   "execution_count": 2,
   "metadata": {},
   "outputs": [
    {
     "ename": "ImportError",
     "evalue": "No module named runestone",
     "output_type": "error",
     "traceback": [
      "\u001b[0;31m---------------------------------------------------------------------------\u001b[0m",
      "\u001b[0;31mImportError\u001b[0m                               Traceback (most recent call last)",
      "\u001b[0;32m<ipython-input-2-6ecb918b781b>\u001b[0m in \u001b[0;36m<module>\u001b[0;34m()\u001b[0m\n\u001b[0;32m----> 1\u001b[0;31m \u001b[0;32mimport\u001b[0m \u001b[0mrunestone\u001b[0m\u001b[0;34m\u001b[0m\u001b[0m\n\u001b[0m",
      "\u001b[0;31mImportError\u001b[0m: No module named runestone"
     ]
    }
   ],
   "source": [
    "import runestone"
   ]
  },
  {
   "cell_type": "code",
   "execution_count": 6,
   "metadata": {},
   "outputs": [
    {
     "name": "stdout",
     "output_type": "stream",
     "text": [
      "ipython_config.py\t  ipython_kernel_config.py-bak\tpid\t  startup\r\n",
      "ipython_kernel_config.py  log\t\t\t\tsecurity\r\n"
     ]
    }
   ],
   "source": [
    "!ls ~/.ipython/profile_IPyLua"
   ]
  },
  {
   "cell_type": "code",
   "execution_count": 8,
   "metadata": {
    "collapsed": true
   },
   "outputs": [],
   "source": [
    "!mkdir ~/.ipython/profile_IPyLua/static/custom/"
   ]
  },
  {
   "cell_type": "code",
   "execution_count": 9,
   "metadata": {},
   "outputs": [
    {
     "name": "stdout",
     "output_type": "stream",
     "text": [
      "cp: omitting directory '/home/jack/.ipython/profile_IPyLua/log'\r\n",
      "cp: omitting directory '/home/jack/.ipython/profile_IPyLua/pid'\r\n",
      "cp: omitting directory '/home/jack/.ipython/profile_IPyLua/security'\r\n",
      "cp: omitting directory '/home/jack/.ipython/profile_IPyLua/startup'\r\n",
      "cp: omitting directory '/home/jack/.ipython/profile_IPyLua/static'\r\n"
     ]
    }
   ],
   "source": [
    "!cp /home/jack/.ipython/profile_IPyLua/* ~/.ipython/profile_IPyLua/static/custom/"
   ]
  },
  {
   "cell_type": "code",
   "execution_count": 10,
   "metadata": {},
   "outputs": [
    {
     "name": "stdout",
     "output_type": "stream",
     "text": [
      "ipython_config.py  ipython_kernel_config.py  ipython_kernel_config.py-bak\r\n"
     ]
    }
   ],
   "source": [
    "!ls ~/.ipython/profile_IPyLua/static/custom/"
   ]
  },
  {
   "cell_type": "code",
   "execution_count": null,
   "metadata": {
    "collapsed": true
   },
   "outputs": [],
   "source": []
  }
 ],
 "metadata": {
  "kernelspec": {
   "display_name": "Python 2",
   "language": "python",
   "name": "python2"
  },
  "language_info": {
   "codemirror_mode": {
    "name": "ipython",
    "version": 2
   },
   "file_extension": ".py",
   "mimetype": "text/x-python",
   "name": "python",
   "nbconvert_exporter": "python",
   "pygments_lexer": "ipython2",
   "version": "2.7.13"
  }
 },
 "nbformat": 4,
 "nbformat_minor": 2
}
