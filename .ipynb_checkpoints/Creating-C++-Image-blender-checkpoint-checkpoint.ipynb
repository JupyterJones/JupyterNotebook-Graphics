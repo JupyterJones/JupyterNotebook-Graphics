{
 "cells": [
  {
   "cell_type": "markdown",
   "metadata": {
    "inputHidden": false,
    "outputHidden": false
   },
   "source": [
    "# Here is a nice Image Blending program written in C++"
   ]
  },
  {
   "cell_type": "markdown",
   "metadata": {},
   "source": [
    "## A fast easy image blender called \"controlBlend\"\n",
    "The script and compiling directions are below. It can be done without leaving the Jupyter Notebook<br />\n",
    "the top line ' %%writefile controlBlend.cpp ' will write the C++ file "
   ]
  },
  {
   "cell_type": "markdown",
   "metadata": {},
   "source": [
    "Executing/running the next line will compile ' controlBlend.cpp '"
   ]
  },
  {
   "cell_type": "code",
   "execution_count": 8,
   "metadata": {},
   "outputs": [
    {
     "name": "stdout",
     "output_type": "stream",
     "text": [
      "/home/jack/anaconda2/envs/py27/lib/pkgconfig/opencv.pc\n",
      "/home/jack/anaconda2/envs/py35/lib/pkgconfig/opencv.pc\n",
      "/home/jack/anaconda2/envs/pyth3/lib/pkgconfig/opencv.pc\n",
      "/home/jack/anaconda2/envs/universe/lib/pkgconfig/opencv.pc\n",
      "/home/jack/anaconda2/lib/pkgconfig/opencv.pc\n",
      "/home/jack/anaconda2/pkgs/libopencv-3.4.1-h1a3b859_1/lib/pkgconfig/opencv.pc\n",
      "/home/jack/anaconda2/pkgs/opencv-2.4.13-np113py27_1/lib/pkgconfig/opencv.pc\n",
      "/home/jack/anaconda2/pkgs/opencv-3.1.0-np112py35_1/lib/pkgconfig/opencv.pc\n",
      "/home/jack/anaconda2/pkgs/opencv-3.4.1-py27_1/lib/pkgconfig/opencv.pc\n",
      "/home/jack/anaconda2/pkgs/opencv-3.4.1-py27_blas_openblash829a850_201/lib/pkgconfig/opencv.pc\n",
      "/home/jack/anaconda2/pkgs/opencv-3.4.1-py35_blas_openblas_200/lib/pkgconfig/opencv.pc\n",
      "/home/jack/anaconda2/pkgs/opencv-3.4.1-py35_blas_openblash829a850_201/lib/pkgconfig/opencv.pc\n",
      "/home/jack/anaconda2/pkgs/opencv-3.4.1-py35_blas_openblashf72f6a5_200/lib/pkgconfig/opencv.pc\n",
      "/home/jack/anaconda2/pkgs/opencv3-3.1.0-py27_0/lib/pkgconfig/opencv.pc\n",
      "/home/jack/anaconda2/pkgs/opencv3-3.1.0-py35_0/lib/pkgconfig/opencv.pc\n",
      "/home/jack/git/opencv/OpenCV/build/unix-install/opencv.pc\n",
      "/home/jack/git/opencv/build/unix-install/opencv.pc\n",
      "/home/jack/unix-install/opencv.pc\n",
      "/usr/lib/pkgconfig/opencv.pc\n",
      "/var/lib/docker/overlay2/a92975accb28e66db7a21ed0923d1401ab0285b1407184163a2632ad45a5ea0f/diff/usr/lib/pkgconfig/opencv.pc\n"
     ]
    }
   ],
   "source": [
    "!sudo locate opencv.pc"
   ]
  },
  {
   "cell_type": "code",
   "execution_count": 5,
   "metadata": {},
   "outputs": [],
   "source": [
    "!export PKG_CONFIG_PATH=/home/jack/anaconda2/envs/py35/lib/pkgconfig/opencv.pc"
   ]
  },
  {
   "cell_type": "code",
   "execution_count": 8,
   "metadata": {},
   "outputs": [
    {
     "ename": "SyntaxError",
     "evalue": "invalid syntax (<ipython-input-8-de1d63cf28f7>, line 1)",
     "output_type": "error",
     "traceback": [
      "\u001b[0;36m  File \u001b[0;32m\"<ipython-input-8-de1d63cf28f7>\"\u001b[0;36m, line \u001b[0;32m1\u001b[0m\n\u001b[0;31m    g++ pkg-config --cflags --libs opencv controlBlend.cpp -o controlBlend\u001b[0m\n\u001b[0m                                        ^\u001b[0m\n\u001b[0;31mSyntaxError\u001b[0m\u001b[0;31m:\u001b[0m invalid syntax\n"
     ]
    }
   ],
   "source": [
    "g++ pkg-config --cflags --libs opencv controlBlend.cpp -o controlBlend\n"
   ]
  },
  {
   "cell_type": "code",
   "execution_count": 10,
   "metadata": {
    "inputHidden": false,
    "outputHidden": false
   },
   "outputs": [
    {
     "name": "stdout",
     "output_type": "stream",
     "text": [
      "\u001b[01m\u001b[Kg++:\u001b[m\u001b[K \u001b[01;31m\u001b[Kerror: \u001b[m\u001b[K/home/jack/anaconda2/envs/py35/lib/pkgconfig/opencv --cflags --libs: No such file or directory\r\n"
     ]
    }
   ],
   "source": [
    "!g++ controlBlend.cpp -o controlBlend '/home/jack/anaconda2/envs/py35/lib/pkgconfig/opencv --cflags --libs'"
   ]
  },
  {
   "cell_type": "code",
   "execution_count": 11,
   "metadata": {
    "inputHidden": false,
    "outputHidden": false
   },
   "outputs": [
    {
     "name": "stdout",
     "output_type": "stream",
     "text": [
      "Package opencv was not found in the pkg-config search path.\n",
      "Perhaps you should add the directory containing `opencv.pc'\n",
      "to the PKG_CONFIG_PATH environment variable\n",
      "No package 'opencv' found\n",
      "\u001b[01m\u001b[KcontrolBlend.cpp:1:10:\u001b[m\u001b[K \u001b[01;31m\u001b[Kfatal error: \u001b[m\u001b[Kcv.h: No such file or directory\n",
      " #include \u001b[01;31m\u001b[K<cv.h>\u001b[m\u001b[K\n",
      "          \u001b[01;31m\u001b[K^~~~~~\u001b[m\u001b[K\n",
      "compilation terminated.\n"
     ]
    }
   ],
   "source": [
    "!g++ controlBlend.cpp -o controlBlend `pkg-config opencv --cflags --libs`"
   ]
  },
  {
   "cell_type": "markdown",
   "metadata": {},
   "source": [
    "When run the next line shows the file ' image1.png ' in a pop upwindow called <b>Image Viewer</b><br />\n",
    "Since it was copied to /usr/local/bin it is an executable from any directory. You many use<br />\n",
    "the notebook or in a terminal window via command line."
   ]
  },
  {
   "cell_type": "code",
   "execution_count": 1,
   "metadata": {
    "inputHidden": false,
    "outputHidden": false
   },
   "outputs": [
    {
     "name": "stdout",
     "output_type": "stream",
     "text": [
      "Writing controlBlend.cpp\n"
     ]
    }
   ],
   "source": [
    "%%writefile controlBlend.cpp\n",
    "#include <cv.h>\n",
    "#include <highgui.h>\n",
    "\n",
    "using namespace cv;\n",
    "\n",
    "/// Global Variables\n",
    "const int alpha_slider_max = 100;\n",
    "int alpha_slider;\n",
    "double alpha;\n",
    "double beta;\n",
    "\n",
    "/// Matrices to store images\n",
    "Mat src1;\n",
    "Mat src2;\n",
    "Mat dst;\n",
    "\n",
    "/**\n",
    " * @function on_trackbar\n",
    " * @brief Callback for trackbar\n",
    " */\n",
    "void on_trackbar( int, void* )\n",
    "{\n",
    " alpha = (double) alpha_slider/alpha_slider_max ;\n",
    " beta = ( 1.0 - alpha );\n",
    "\n",
    " addWeighted( src1, alpha, src2, beta, 0.0, dst);\n",
    "\n",
    " imshow( \"Linear Blend\", dst );\n",
    "}\n",
    "\n",
    "int main( int argc, char** argv )\n",
    "{\n",
    " /// Read image ( same size, same type )\n",
    " src1 = imread(\"images/hicks01.jpg\");\n",
    " src2 = imread(\"images/hicks02.jpg\");\n",
    "\n",
    " if( !src1.data ) { printf(\"Error loading src1 \\n\"); return -1; }\n",
    " if( !src2.data ) { printf(\"Error loading src2 \\n\"); return -1; }\n",
    "\n",
    " /// Initialize values\n",
    " alpha_slider = 0;\n",
    "\n",
    " /// Create Windows\n",
    " namedWindow(\"Linear Blend\", 1);\n",
    "\n",
    " /// Create Trackbars\n",
    " char TrackbarName[50];\n",
    " sprintf( TrackbarName, \"Alpha x %d\", alpha_slider_max );\n",
    "\n",
    " createTrackbar( TrackbarName, \"Linear Blend\", &alpha_slider, alpha_slider_max, on_trackbar );\n",
    "\n",
    " /// Show some stuff\n",
    " on_trackbar( alpha_slider, 0 );\n",
    "\n",
    " /// Wait until user press some key\n",
    " waitKey(0);\n",
    " return 0;\n",
    "}"
   ]
  },
  {
   "cell_type": "code",
   "execution_count": null,
   "metadata": {
    "collapsed": true
   },
   "outputs": [],
   "source": []
  }
 ],
 "metadata": {
  "kernel_info": {
   "name": "python2"
  },
  "kernelspec": {
   "display_name": "Python [conda env:py35]",
   "language": "python",
   "name": "conda-env-py35-py"
  },
  "language_info": {
   "codemirror_mode": {
    "name": "ipython",
    "version": 3
   },
   "file_extension": ".py",
   "mimetype": "text/x-python",
   "name": "python",
   "nbconvert_exporter": "python",
   "pygments_lexer": "ipython3",
   "version": "3.5.4"
  }
 },
 "nbformat": 4,
 "nbformat_minor": 2
}
