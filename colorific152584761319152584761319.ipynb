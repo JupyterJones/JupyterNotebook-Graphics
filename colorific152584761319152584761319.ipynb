{
 "cells": [
  {
   "cell_type": "code",
   "execution_count": 11,
   "metadata": {
    "collapsed": true
   },
   "outputs": [],
   "source": [
    "%reset -f"
   ]
  },
  {
   "cell_type": "code",
   "execution_count": 3,
   "metadata": {},
   "outputs": [],
   "source": [
    "!sudo locate colorific/__init__.py"
   ]
  },
  {
   "cell_type": "code",
   "execution_count": 5,
   "metadata": {},
   "outputs": [],
   "source": [
    "!sudo locate colormath/__init__.py"
   ]
  },
  {
   "cell_type": "code",
   "execution_count": 1,
   "metadata": {
    "scrolled": true
   },
   "outputs": [
    {
     "ename": "ImportError",
     "evalue": "No module named colorific",
     "output_type": "error",
     "traceback": [
      "\u001b[0;31m---------------------------------------------------------------------------\u001b[0m",
      "\u001b[0;31mImportError\u001b[0m                               Traceback (most recent call last)",
      "\u001b[0;32m<ipython-input-1-a8dc0e7dbe47>\u001b[0m in \u001b[0;36m<module>\u001b[0;34m()\u001b[0m\n\u001b[0;32m----> 1\u001b[0;31m \u001b[0;32mimport\u001b[0m \u001b[0mcolorific\u001b[0m\u001b[0;34m\u001b[0m\u001b[0m\n\u001b[0m\u001b[1;32m      2\u001b[0m \u001b[0mhelp\u001b[0m\u001b[0;34m(\u001b[0m\u001b[0mcolorific\u001b[0m\u001b[0;34m)\u001b[0m\u001b[0;34m\u001b[0m\u001b[0m\n",
      "\u001b[0;31mImportError\u001b[0m: No module named colorific"
     ]
    }
   ],
   "source": [
    "import colorific\n",
    "help(colorific)"
   ]
  },
  {
   "cell_type": "code",
   "execution_count": 4,
   "metadata": {},
   "outputs": [
    {
     "ename": "ImportError",
     "evalue": "No module named colormath",
     "output_type": "error",
     "traceback": [
      "\u001b[0;31m---------------------------------------------------------------------------\u001b[0m",
      "\u001b[0;31mImportError\u001b[0m                               Traceback (most recent call last)",
      "\u001b[0;32m<ipython-input-4-4602f74c0fe3>\u001b[0m in \u001b[0;36m<module>\u001b[0;34m()\u001b[0m\n\u001b[0;32m----> 1\u001b[0;31m \u001b[0;32mimport\u001b[0m \u001b[0mcolormath\u001b[0m\u001b[0;34m\u001b[0m\u001b[0m\n\u001b[0m\u001b[1;32m      2\u001b[0m \u001b[0mhelp\u001b[0m\u001b[0;34m(\u001b[0m\u001b[0mcolormath\u001b[0m\u001b[0;34m.\u001b[0m\u001b[0mcolor_objects\u001b[0m\u001b[0;34m)\u001b[0m\u001b[0;34m\u001b[0m\u001b[0m\n",
      "\u001b[0;31mImportError\u001b[0m: No module named colormath"
     ]
    }
   ],
   "source": [
    "import colormath\n",
    "help(colormath.color_objects)"
   ]
  },
  {
   "cell_type": "code",
   "execution_count": 27,
   "metadata": {
    "collapsed": true
   },
   "outputs": [],
   "source": [
    "!rm ascii_arty.py"
   ]
  },
  {
   "cell_type": "code",
   "execution_count": 52,
   "metadata": {},
   "outputs": [
    {
     "name": "stdout",
     "output_type": "stream",
     "text": [
      "Overwriting ascii_arty.py\n"
     ]
    }
   ],
   "source": [
    "#%%writefile ascii_arty.py\n",
    "#!/home/jack/anaconda2/bin\n",
    "#! /usr/bin/env python2\n",
    "# Requires: PIL, colormath\n",
    "#\n",
    "# Improved algorithm now automatically crops the image and uses much \n",
    "# better color matching\n",
    " \n",
    "from PIL import Image, ImageChops\n",
    "from colormath.color_conversions import convert_color\n",
    "from colormath.color_objects import LabColor\n",
    "from colormath.color_objects import sRGBColor as RGBColor\n",
    "from colormath.color_diff import delta_e_cmc as cmc\n",
    "import argparse\n",
    "import sys\n",
    "import math\n",
    "\n",
    "\n",
    "\n",
    "ANSI_CODES = (\n",
    "    '\\033[00;30m',     # black\n",
    "    '\\033[00;31m',     # red\n",
    "    '\\033[00;32m',     # green\n",
    "    '\\033[00;33m',     # yellow\n",
    "    '\\033[00;34m',     # blue\n",
    "    '\\033[00;35m',     # magenta\n",
    "    '\\033[00;36m',     # cyan\n",
    "    '\\033[00;37m',     # gray\n",
    "    '\\033[01;30m',   # dark gray\n",
    "    '\\033[01;31m',   # bright red\n",
    "    '\\033[01;32m',   # bright green\n",
    "    '\\033[01;33m',   # bright yellow\n",
    "    '\\033[01;34m',   # bright blue\n",
    "    '\\033[01;35m',   # bright magenta\n",
    "    '\\033[01;36m',   # bright cyan\n",
    "    '\\033[01;37m',   # white\n",
    ")\n",
    "ANSI_COLORS = (\n",
    "    RGBColor(0, 0, 0),          # black\n",
    "    RGBColor(205, 0, 0),        # red\n",
    "    RGBColor(0, 205, 0),        # green\n",
    "    RGBColor(205, 205, 0),      # yellow\n",
    "    RGBColor(0, 0, 238),        # blue\n",
    "    RGBColor(205, 0, 205),      # magenta\n",
    "    RGBColor(0, 205, 205),      # cyan\n",
    "    RGBColor(229, 229, 229),    # gray\n",
    "    RGBColor(127, 127, 127),    # dark gray\n",
    "    RGBColor(255, 0, 0),        # bright red\n",
    "    RGBColor(0, 255, 0),        # bright green\n",
    "    RGBColor(255, 255, 0),      # bright yellow\n",
    "    RGBColor(92, 92, 255),      # bright blue\n",
    "    RGBColor(255, 0, 255),      # bright magenta\n",
    "    RGBColor(0, 255, 255),      # bright cyan\n",
    "    RGBColor(255, 255, 255),    # white\n",
    ")\n",
    "ANSI_RESET = '\\033[0m'\n",
    "INFINITY = float('inf')\n",
    "\n",
    "\n",
    "def closest_ansi_color(color):\n",
    "    # Look up the closest ANSI color\n",
    "    color = RGBColor(*color[:3])\n",
    "    closest_dist = INFINITY\n",
    "    closest_color_index = 0\n",
    "    for i, c in enumerate(ANSI_COLORS):\n",
    "        d = color_distance(c, color)\n",
    "        if d < closest_dist:\n",
    "            closest_dist = d\n",
    "            closest_color_index = i\n",
    "    return ANSI_CODES[closest_color_index]\n",
    "\n",
    "\n",
    "def color_distance(c1, c2):\n",
    "    # return a value representing a relative distance between two RGB\n",
    "    # color values, weighted for human eye sensitivity\n",
    "    return c1.delta_e(c2, mode='cmc', pl=1, pc=1)\n",
    "    # return (math.pow((c2[0] - c1[0]) * 0.30, 2) +\n",
    "    #         math.pow((c2[1] - c1[1]) * 0.49, 2) +\n",
    "    #         math.pow((c2[2] - c1[2]) * 0.21, 2))\n",
    "\n",
    "\n",
    "def convert_image(filename, output_file, fill_char='##'):\n",
    "    # render an image as ASCII by converting it to RGBA then using the\n",
    "    # color lookup table to find the closest colors, then filling with \n",
    "    # fill_char\n",
    "    # TODO: use a set of fill characters and choose among them based on\n",
    "    # color value\n",
    "    im = Image.open(filename)\n",
    "    if im.mode != 'RGBA':\n",
    "        im = im.convert('RGBA')\n",
    "    # crop the image\n",
    "    bg = Image.new(im.mode, im.size, im.getpixel((0,0)))\n",
    "    diff = ImageChops.difference(im, bg)\n",
    "    diff = ImageChops.add(diff, diff, 2.0, -100)\n",
    "    bbox = diff.getbbox()\n",
    "    if bbox:\n",
    "        im = im.crop(bbox)\n",
    "    w = im.size[0]\n",
    "    o = ''\n",
    "    last_color = None\n",
    "    for i, p in enumerate(im.getdata()):\n",
    "        if i % w == 0:\n",
    "            o += '\\n'\n",
    "        if im.mode == 'RGBA' and p[3] == 0:\n",
    "            o += ' ' * len(fill_char)\n",
    "        else:\n",
    "            c = closest_ansi_color(p)\n",
    "            if last_color != c:\n",
    "                o += c\n",
    "                last_color = c\n",
    "            o += fill_char\n",
    "    o += ANSI_RESET + '\\n\\n'\n",
    "    if output_file is not sys.stdout:\n",
    "        output_file = open(output_file, 'w')\n",
    "    output_file.write(o)\n",
    "    output_file.close()\n",
    "\n",
    "\n",
    "if __name__ == '__main__':\n",
    "    parser = argparse.ArgumentParser()\n",
    "    parser.add_argument('filename', help='File to convert to ASCII art')\n",
    "    parser.add_argument('-o', '--output_file', nargs='?', default=sys.stdout,\n",
    "                        help='Path to the output file, defaults to stdout')\n",
    "    parser.add_argument('-f', '--fill_char', nargs='?', default='##',\n",
    "                        help='Character to use for solid pixels in the image')\n",
    "    args = parser.parse_args()\n",
    "    convert_image(args.filename, args.output_file, fill_char=args.fill_char)\n"
   ]
  },
  {
   "cell_type": "code",
   "execution_count": 56,
   "metadata": {},
   "outputs": [
    {
     "name": "stdout",
     "output_type": "stream",
     "text": [
      "art.txt\t\t\t\t junk\r\n",
      "ascii_arty.py\t\t\t masked\r\n",
      "ascii_arty.pyc\t\t\t MaskGenerator-Copy1.ipynb\r\n",
      "average_color.png\t\t MaskGenerator.ipynb\r\n",
      "bak\t\t\t\t masks\r\n",
      "basic\t\t\t\t NewNotebook.ipynb\r\n",
      "blend\t\t\t\t output\r\n",
      "BLENDERS.ipynb\t\t\t posted\r\n",
      "build\t\t\t\t publish\r\n",
      "darkimages\t\t\t result_bw.png\r\n",
      "Dream-and-Post-to-Twitter.ipynb  testmasks\r\n",
      "experiment\t\t\t testmasks_blur\r\n",
      "halo.png\t\t\t test.txt\r\n",
      "ImageBot\t\t\t Title-and-Sign-titlenpost.py.ipynb\r\n",
      "ImageBot1.py\t\t\t titlenpost\r\n",
      "ImageBot.py\t\t\t titlenpost.py\r\n",
      "ImageBot_Triangles.ipynb\t titles.txt\r\n",
      "ImageEffectsBot\t\t\t tmp\r\n",
      "ImageEffectsBot-bak.ipynb\t TwitterBot.ipynb\r\n",
      "ImageEffectsBot-Copy1.ipynb\t Twitter- image-and-comment-manual-upload.ipynb\r\n",
      "ImageEffectsBot.py\t\t twitterpost\r\n",
      "Image-Maker.ipynb\t\t twitterpost.py\r\n",
      "images\t\t\t\t Twitter-Wordcloud-Image-Generator.ipynb\r\n",
      "INDEX.ipynb\t\t\t Wordcloud-Image-Generator-for github.ipynb\r\n",
      "index.txt\t\t\t wordcloud.txt\r\n"
     ]
    }
   ],
   "source": [
    "!ls "
   ]
  },
  {
   "cell_type": "code",
   "execution_count": 58,
   "metadata": {},
   "outputs": [
    {
     "name": "stdout",
     "output_type": "stream",
     "text": [
      "Traceback (most recent call last):\r\n",
      "  File \"ascii_arty.py\", line 126, in <module>\r\n",
      "    convert_image(args.filename, args.output_file, fill_char=args.fill_char)\r\n",
      "  File \"ascii_arty.py\", line 87, in convert_image\r\n",
      "    im = Image.open(filename)\r\n",
      "  File \"/home/jack/anaconda2/lib/python2.7/site-packages/PIL/Image.py\", line 2410, in open\r\n",
      "    fp = builtins.open(filename, \"rb\")\r\n",
      "IOError: [Errno 2] No such file or directory: 'art.txt,'\r\n"
     ]
    }
   ],
   "source": [
    "!python ascii_arty.py 'junk/20170820120735.jpg', -o 'junk/output_file.jpg' -f '##'"
   ]
  },
  {
   "cell_type": "code",
   "execution_count": null,
   "metadata": {
    "collapsed": true
   },
   "outputs": [],
   "source": [
    "filename='junk/01.jpg'\n",
    "    output_file='junk/output_file.jpg'\n",
    "    fill_char='##'\n",
    "    convert_image(filename, output_file, fill_char=args.fill_char)\n",
    "    "
   ]
  },
  {
   "cell_type": "code",
   "execution_count": 36,
   "metadata": {},
   "outputs": [
    {
     "ename": "SyntaxError",
     "evalue": "invalid syntax (<ipython-input-36-732949b5c42c>, line 2)",
     "output_type": "error",
     "traceback": [
      "\u001b[0;36m  File \u001b[0;32m\"<ipython-input-36-732949b5c42c>\"\u001b[0;36m, line \u001b[0;32m2\u001b[0m\n\u001b[0;31m    ascii_arty.convert_image('junk/01.jpg', -o 'junk/output_file.jpg', fill_char='##')\u001b[0m\n\u001b[0m                                                                    ^\u001b[0m\n\u001b[0;31mSyntaxError\u001b[0m\u001b[0;31m:\u001b[0m invalid syntax\n"
     ]
    }
   ],
   "source": [
    "import ascii_arty\n",
    "ascii_arty.convert_image('junk/01.jpg', -o 'junk/output_file.jpg', fill_char='##')    "
   ]
  },
  {
   "cell_type": "code",
   "execution_count": 44,
   "metadata": {},
   "outputs": [
    {
     "name": "stdout",
     "output_type": "stream",
     "text": [
      "ls: cannot access 'junk/output_file.jpg': No such file or directory\r\n"
     ]
    }
   ],
   "source": [
    "!ls junk/output_file.jpg"
   ]
  },
  {
   "cell_type": "code",
   "execution_count": null,
   "metadata": {
    "collapsed": true
   },
   "outputs": [],
   "source": []
  }
 ],
 "metadata": {
  "kernelspec": {
   "display_name": "DefaultPY",
   "language": "python",
   "name": "default_py"
  },
  "language_info": {
   "codemirror_mode": {
    "name": "ipython",
    "version": 2
   },
   "file_extension": ".py",
   "mimetype": "text/x-python",
   "name": "python",
   "nbconvert_exporter": "python",
   "pygments_lexer": "ipython2",
   "version": "2.7.14"
  }
 },
 "nbformat": 4,
 "nbformat_minor": 2
}
